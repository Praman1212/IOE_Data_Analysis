{
 "cells": [
  {
   "cell_type": "code",
   "execution_count": 2,
   "id": "5aaafc80",
   "metadata": {},
   "outputs": [],
   "source": [
    "import pandas as pd\n",
    "import matplotlib.pyplot as plt\n",
    "import seaborn as sns\n",
    "import os\n",
    "\n"
   ]
  },
  {
   "cell_type": "code",
   "execution_count": 3,
   "id": "3fc478a5",
   "metadata": {},
   "outputs": [],
   "source": [
    "data = pd.read_csv('results/2079.csv')"
   ]
  },
  {
   "cell_type": "code",
   "execution_count": 4,
   "id": "d0051f74",
   "metadata": {},
   "outputs": [
    {
     "data": {
      "text/html": [
       "<div>\n",
       "<style scoped>\n",
       "    .dataframe tbody tr th:only-of-type {\n",
       "        vertical-align: middle;\n",
       "    }\n",
       "\n",
       "    .dataframe tbody tr th {\n",
       "        vertical-align: top;\n",
       "    }\n",
       "\n",
       "    .dataframe thead th {\n",
       "        text-align: right;\n",
       "    }\n",
       "</style>\n",
       "<table border=\"1\" class=\"dataframe\">\n",
       "  <thead>\n",
       "    <tr style=\"text-align: right;\">\n",
       "      <th></th>\n",
       "      <th>SNo</th>\n",
       "      <th>FormNo</th>\n",
       "      <th>Name</th>\n",
       "      <th>Gender</th>\n",
       "      <th>District</th>\n",
       "      <th>Rank</th>\n",
       "    </tr>\n",
       "  </thead>\n",
       "  <tbody>\n",
       "    <tr>\n",
       "      <th>0</th>\n",
       "      <td>1</td>\n",
       "      <td>2079?312</td>\n",
       "      <td>Aabhas Godar</td>\n",
       "      <td>Male</td>\n",
       "      <td>Syangja</td>\n",
       "      <td>3185</td>\n",
       "    </tr>\n",
       "    <tr>\n",
       "      <th>1</th>\n",
       "      <td>2</td>\n",
       "      <td>2079?62</td>\n",
       "      <td>Aabhas Singh</td>\n",
       "      <td>Male</td>\n",
       "      <td>Rautahat</td>\n",
       "      <td>1484</td>\n",
       "    </tr>\n",
       "    <tr>\n",
       "      <th>2</th>\n",
       "      <td>3</td>\n",
       "      <td>2079?46</td>\n",
       "      <td>Aabiskar Bhattarai</td>\n",
       "      <td>Male</td>\n",
       "      <td>Syangja</td>\n",
       "      <td>5349</td>\n",
       "    </tr>\n",
       "    <tr>\n",
       "      <th>3</th>\n",
       "      <td>4</td>\n",
       "      <td>2079?641</td>\n",
       "      <td>Aabiskar Regmi</td>\n",
       "      <td>Male</td>\n",
       "      <td>Kaski</td>\n",
       "      <td>331</td>\n",
       "    </tr>\n",
       "    <tr>\n",
       "      <th>4</th>\n",
       "      <td>5</td>\n",
       "      <td>2079?2171</td>\n",
       "      <td>Aabiskar Subedi</td>\n",
       "      <td>Male</td>\n",
       "      <td>Myagdi</td>\n",
       "      <td>3048</td>\n",
       "    </tr>\n",
       "    <tr>\n",
       "      <th>...</th>\n",
       "      <td>...</td>\n",
       "      <td>...</td>\n",
       "      <td>...</td>\n",
       "      <td>...</td>\n",
       "      <td>...</td>\n",
       "      <td>...</td>\n",
       "    </tr>\n",
       "    <tr>\n",
       "      <th>6717</th>\n",
       "      <td>6718</td>\n",
       "      <td>2079?8442</td>\n",
       "      <td>Yushila Luitel</td>\n",
       "      <td>Female</td>\n",
       "      <td>Sarlahi</td>\n",
       "      <td>4838</td>\n",
       "    </tr>\n",
       "    <tr>\n",
       "      <th>6718</th>\n",
       "      <td>6719</td>\n",
       "      <td>2079?2495</td>\n",
       "      <td>Yuvraj Bista</td>\n",
       "      <td>Male</td>\n",
       "      <td>Rolpa</td>\n",
       "      <td>2214</td>\n",
       "    </tr>\n",
       "    <tr>\n",
       "      <th>6719</th>\n",
       "      <td>6720</td>\n",
       "      <td>2079?627</td>\n",
       "      <td>Yuvraj Pandey</td>\n",
       "      <td>Male</td>\n",
       "      <td>Ramechhap</td>\n",
       "      <td>248</td>\n",
       "    </tr>\n",
       "    <tr>\n",
       "      <th>6720</th>\n",
       "      <td>6721</td>\n",
       "      <td>2079?6658</td>\n",
       "      <td>Yuwen Luitel</td>\n",
       "      <td>Male</td>\n",
       "      <td>Kavrepalanchok</td>\n",
       "      <td>3738</td>\n",
       "    </tr>\n",
       "    <tr>\n",
       "      <th>6721</th>\n",
       "      <td>6722</td>\n",
       "      <td>2079?6081</td>\n",
       "      <td>Yuworaj Bhattarai</td>\n",
       "      <td>Male</td>\n",
       "      <td>Rupandehi</td>\n",
       "      <td>3984</td>\n",
       "    </tr>\n",
       "  </tbody>\n",
       "</table>\n",
       "<p>6722 rows × 6 columns</p>\n",
       "</div>"
      ],
      "text/plain": [
       "       SNo     FormNo                Name  Gender        District  Rank\n",
       "0        1   2079?312        Aabhas Godar    Male         Syangja  3185\n",
       "1        2    2079?62        Aabhas Singh    Male        Rautahat  1484\n",
       "2        3    2079?46  Aabiskar Bhattarai    Male         Syangja  5349\n",
       "3        4   2079?641      Aabiskar Regmi    Male           Kaski   331\n",
       "4        5  2079?2171     Aabiskar Subedi    Male          Myagdi  3048\n",
       "...    ...        ...                 ...     ...             ...   ...\n",
       "6717  6718  2079?8442      Yushila Luitel  Female         Sarlahi  4838\n",
       "6718  6719  2079?2495        Yuvraj Bista    Male           Rolpa  2214\n",
       "6719  6720   2079?627       Yuvraj Pandey    Male       Ramechhap   248\n",
       "6720  6721  2079?6658        Yuwen Luitel    Male  Kavrepalanchok  3738\n",
       "6721  6722  2079?6081   Yuworaj Bhattarai    Male       Rupandehi  3984\n",
       "\n",
       "[6722 rows x 6 columns]"
      ]
     },
     "execution_count": 4,
     "metadata": {},
     "output_type": "execute_result"
    }
   ],
   "source": [
    "data"
   ]
  },
  {
   "cell_type": "code",
   "execution_count": 7,
   "id": "e8c09048",
   "metadata": {},
   "outputs": [
    {
     "data": {
      "text/plain": [
       "SNo         0\n",
       "FormNo      0\n",
       "Name        0\n",
       "Gender      0\n",
       "District    0\n",
       "Rank        0\n",
       "dtype: int64"
      ]
     },
     "execution_count": 7,
     "metadata": {},
     "output_type": "execute_result"
    }
   ],
   "source": [
    "data.isnull().sum()"
   ]
  },
  {
   "cell_type": "code",
   "execution_count": 8,
   "id": "b522735a",
   "metadata": {},
   "outputs": [
    {
     "data": {
      "text/html": [
       "<div>\n",
       "<style scoped>\n",
       "    .dataframe tbody tr th:only-of-type {\n",
       "        vertical-align: middle;\n",
       "    }\n",
       "\n",
       "    .dataframe tbody tr th {\n",
       "        vertical-align: top;\n",
       "    }\n",
       "\n",
       "    .dataframe thead th {\n",
       "        text-align: right;\n",
       "    }\n",
       "</style>\n",
       "<table border=\"1\" class=\"dataframe\">\n",
       "  <thead>\n",
       "    <tr style=\"text-align: right;\">\n",
       "      <th></th>\n",
       "      <th>SNo</th>\n",
       "      <th>FormNo</th>\n",
       "      <th>Name</th>\n",
       "      <th>Gender</th>\n",
       "      <th>District</th>\n",
       "      <th>Rank</th>\n",
       "    </tr>\n",
       "  </thead>\n",
       "  <tbody>\n",
       "    <tr>\n",
       "      <th>0</th>\n",
       "      <td>1</td>\n",
       "      <td>2079?312</td>\n",
       "      <td>Aabhas Godar</td>\n",
       "      <td>Male</td>\n",
       "      <td>Syangja</td>\n",
       "      <td>3185</td>\n",
       "    </tr>\n",
       "    <tr>\n",
       "      <th>1</th>\n",
       "      <td>2</td>\n",
       "      <td>2079?62</td>\n",
       "      <td>Aabhas Singh</td>\n",
       "      <td>Male</td>\n",
       "      <td>Rautahat</td>\n",
       "      <td>1484</td>\n",
       "    </tr>\n",
       "    <tr>\n",
       "      <th>2</th>\n",
       "      <td>3</td>\n",
       "      <td>2079?46</td>\n",
       "      <td>Aabiskar Bhattarai</td>\n",
       "      <td>Male</td>\n",
       "      <td>Syangja</td>\n",
       "      <td>5349</td>\n",
       "    </tr>\n",
       "    <tr>\n",
       "      <th>3</th>\n",
       "      <td>4</td>\n",
       "      <td>2079?641</td>\n",
       "      <td>Aabiskar Regmi</td>\n",
       "      <td>Male</td>\n",
       "      <td>Kaski</td>\n",
       "      <td>331</td>\n",
       "    </tr>\n",
       "    <tr>\n",
       "      <th>4</th>\n",
       "      <td>5</td>\n",
       "      <td>2079?2171</td>\n",
       "      <td>Aabiskar Subedi</td>\n",
       "      <td>Male</td>\n",
       "      <td>Myagdi</td>\n",
       "      <td>3048</td>\n",
       "    </tr>\n",
       "    <tr>\n",
       "      <th>...</th>\n",
       "      <td>...</td>\n",
       "      <td>...</td>\n",
       "      <td>...</td>\n",
       "      <td>...</td>\n",
       "      <td>...</td>\n",
       "      <td>...</td>\n",
       "    </tr>\n",
       "    <tr>\n",
       "      <th>6717</th>\n",
       "      <td>6718</td>\n",
       "      <td>2079?8442</td>\n",
       "      <td>Yushila Luitel</td>\n",
       "      <td>Female</td>\n",
       "      <td>Sarlahi</td>\n",
       "      <td>4838</td>\n",
       "    </tr>\n",
       "    <tr>\n",
       "      <th>6718</th>\n",
       "      <td>6719</td>\n",
       "      <td>2079?2495</td>\n",
       "      <td>Yuvraj Bista</td>\n",
       "      <td>Male</td>\n",
       "      <td>Rolpa</td>\n",
       "      <td>2214</td>\n",
       "    </tr>\n",
       "    <tr>\n",
       "      <th>6719</th>\n",
       "      <td>6720</td>\n",
       "      <td>2079?627</td>\n",
       "      <td>Yuvraj Pandey</td>\n",
       "      <td>Male</td>\n",
       "      <td>Ramechhap</td>\n",
       "      <td>248</td>\n",
       "    </tr>\n",
       "    <tr>\n",
       "      <th>6720</th>\n",
       "      <td>6721</td>\n",
       "      <td>2079?6658</td>\n",
       "      <td>Yuwen Luitel</td>\n",
       "      <td>Male</td>\n",
       "      <td>Kavrepalanchok</td>\n",
       "      <td>3738</td>\n",
       "    </tr>\n",
       "    <tr>\n",
       "      <th>6721</th>\n",
       "      <td>6722</td>\n",
       "      <td>2079?6081</td>\n",
       "      <td>Yuworaj Bhattarai</td>\n",
       "      <td>Male</td>\n",
       "      <td>Rupandehi</td>\n",
       "      <td>3984</td>\n",
       "    </tr>\n",
       "  </tbody>\n",
       "</table>\n",
       "<p>6722 rows × 6 columns</p>\n",
       "</div>"
      ],
      "text/plain": [
       "       SNo     FormNo                Name  Gender        District  Rank\n",
       "0        1   2079?312        Aabhas Godar    Male         Syangja  3185\n",
       "1        2    2079?62        Aabhas Singh    Male        Rautahat  1484\n",
       "2        3    2079?46  Aabiskar Bhattarai    Male         Syangja  5349\n",
       "3        4   2079?641      Aabiskar Regmi    Male           Kaski   331\n",
       "4        5  2079?2171     Aabiskar Subedi    Male          Myagdi  3048\n",
       "...    ...        ...                 ...     ...             ...   ...\n",
       "6717  6718  2079?8442      Yushila Luitel  Female         Sarlahi  4838\n",
       "6718  6719  2079?2495        Yuvraj Bista    Male           Rolpa  2214\n",
       "6719  6720   2079?627       Yuvraj Pandey    Male       Ramechhap   248\n",
       "6720  6721  2079?6658        Yuwen Luitel    Male  Kavrepalanchok  3738\n",
       "6721  6722  2079?6081   Yuworaj Bhattarai    Male       Rupandehi  3984\n",
       "\n",
       "[6722 rows x 6 columns]"
      ]
     },
     "execution_count": 8,
     "metadata": {},
     "output_type": "execute_result"
    }
   ],
   "source": [
    "data.dropna()"
   ]
  },
  {
   "cell_type": "code",
   "execution_count": 9,
   "id": "d202fa79",
   "metadata": {},
   "outputs": [],
   "source": [
    "data.drop_duplicates(inplace=True)\n"
   ]
  },
  {
   "cell_type": "code",
   "execution_count": 10,
   "id": "aa7934e2",
   "metadata": {},
   "outputs": [
    {
     "data": {
      "text/plain": [
       "Gender\n",
       "Male      5090\n",
       "Female    1632\n",
       "Name: count, dtype: int64"
      ]
     },
     "execution_count": 10,
     "metadata": {},
     "output_type": "execute_result"
    }
   ],
   "source": [
    "data['Gender'].value_counts()\n"
   ]
  },
  {
   "cell_type": "code",
   "execution_count": 11,
   "id": "2f0db466",
   "metadata": {},
   "outputs": [],
   "source": [
    "data.drop_duplicates(inplace=True)"
   ]
  },
  {
   "cell_type": "code",
   "execution_count": 30,
   "id": "4f8bdad3",
   "metadata": {},
   "outputs": [],
   "source": [
    "directory = 'cleaned/results'\n",
    "data.to_csv('cleaned/2079.csv', index=False)\n",
    "\n",
    "if not os.path.exists(directory):\n",
    "    os.makedirs(directory)\n",
    "\n",
    "# Save the DataFrame to CSV file\n",
    "data.to_csv('cleaned/2079.csv', index=False)\n"
   ]
  },
  {
   "cell_type": "code",
   "execution_count": 34,
   "id": "e3e1c115",
   "metadata": {},
   "outputs": [],
   "source": [
    "# plt.bar(Gender.index, Gender.values)\n",
    "\n",
    "# # Add labels and title\n",
    "# plt.xlabel('Gender')\n",
    "# plt.ylabel('Count')\n",
    "# plt.title('Gender Distribution')\n",
    "\n",
    "# # Show the chart\n",
    "# plt.show()"
   ]
  },
  {
   "cell_type": "code",
   "execution_count": 5,
   "id": "61d80922",
   "metadata": {},
   "outputs": [],
   "source": [
    "cleaned_data = pd.read_csv('cleaned/2079.csv')"
   ]
  },
  {
   "cell_type": "code",
   "execution_count": 6,
   "id": "f502f6b4",
   "metadata": {},
   "outputs": [],
   "source": [
    "gender_counts = cleaned_data['Gender'].value_counts()"
   ]
  },
  {
   "cell_type": "code",
   "execution_count": 7,
   "id": "6c11de95",
   "metadata": {},
   "outputs": [
    {
     "name": "stdout",
     "output_type": "stream",
     "text": [
      "Gender\n",
      "Male      5090\n",
      "Female    1632\n",
      "Name: count, dtype: int64\n"
     ]
    }
   ],
   "source": [
    "print(gender_counts)"
   ]
  },
  {
   "cell_type": "code",
   "execution_count": 15,
   "id": "1322359d",
   "metadata": {},
   "outputs": [
    {
     "name": "stdout",
     "output_type": "stream",
     "text": [
      "Male count: 5090\n",
      "Female count: 1632\n"
     ]
    }
   ],
   "source": [
    "male_count = cleaned_data[cleaned_data['Gender'] == 'Male'].shape[0]\n",
    "female_count = cleaned_data[cleaned_data['Gender'] == 'Female'].shape[0]\n",
    "\n",
    "# Display the counts\n",
    "print(\"Male count:\", male_count)\n",
    "print(\"Female count:\", female_count)"
   ]
  },
  {
   "cell_type": "code",
   "execution_count": 22,
   "id": "3444539c",
   "metadata": {},
   "outputs": [
    {
     "data": {
      "image/png": "[encoded data removed]",
      "text/plain": [
       "<Figure size 640x480 with 1 Axes>"
      ]
     },
     "metadata": {},
     "output_type": "display_data"
    }
   ],
   "source": [
    "gender_labels = ['Male', 'Female']\n",
    "gender_counts = [male_count, female_count]\n",
    "\n",
    "plt.bar(gender_labels, gender_counts)\n",
    "\n",
    "# Add labels and title\n",
    "plt.xlabel('Gender')\n",
    "plt.ylabel('Count')\n",
    "plt.title('Count of Male and Female')\n",
    "plt.show()"
   ]
  },
  {
   "cell_type": "code",
   "execution_count": 16,
   "id": "1670d94f",
   "metadata": {},
   "outputs": [
    {
     "data": {
      "image/png": "[encoded data removed]",
      "text/plain": [
       "<Figure size 640x480 with 1 Axes>"
      ]
     },
     "metadata": {},
     "output_type": "display_data"
    }
   ],
   "source": [
    "column_counts = cleaned_data['District'].value_counts()\n",
    "\n",
    "# Select the top 5 counts\n",
    "top_counts = column_counts.nlargest(5)\n",
    "\n",
    "# Create a bar chart\n",
    "plt.bar(top_counts.index, top_counts.values)\n",
    "\n",
    "# Add labels and title\n",
    "plt.xlabel('Categories')\n",
    "plt.ylabel('Count')\n",
    "plt.title('Top 5 Counts of Column')\n",
    "\n",
    "# Show the chart\n",
    "plt.show()"
   ]
  },
  {
   "cell_type": "code",
   "execution_count": 26,
   "id": "a079eb25",
   "metadata": {},
   "outputs": [
    {
     "data": {
      "image/png": "[encoded data removed]",
      "text/plain": [
       "<Figure size 640x480 with 1 Axes>"
      ]
     },
     "metadata": {},
     "output_type": "display_data"
    }
   ],
   "source": [
    "column_counts = cleaned_data['Name'].value_counts()\n",
    "\n",
    "# Select the top 5 counts\n",
    "top_counts = column_counts.nlargest(3)\n",
    "\n",
    "# Create a bar chart\n",
    "plt.bar(top_counts.index, top_counts.values)\n",
    "\n",
    "# Add labels and title\n",
    "plt.xlabel('Name')\n",
    "plt.ylabel('Count')\n",
    "plt.title('Top 3 Counts of Column')\n",
    "\n",
    "# Show the chart\n",
    "plt.show()"
   ]
  },
  {
   "cell_type": "code",
   "execution_count": 3,
   "id": "13ed2b42",
   "metadata": {},
   "outputs": [],
   "source": []
  },
  {
   "cell_type": "code",
   "execution_count": 32,
   "id": "469a772a",
   "metadata": {},
   "outputs": [
    {
     "data": {
      "text/plain": [
       "<BarContainer object of 1 artists>"
      ]
     },
     "execution_count": 32,
     "metadata": {},
     "output_type": "execute_result"
    },
    {
     "data": {
      "image/png": "[encoded data removed]",
      "text/plain": [
       "<Figure size 640x480 with 1 Axes>"
      ]
     },
     "metadata": {},
     "output_type": "display_data"
    }
   ],
   "source": [
    "\n",
    "# Apply the mask to the 'Name' column and count the occurrences\n",
    "mask_p = cleaned_data['Name'].str.startswith('P')\n",
    "\n",
    "# Apply the mask to the 'Name' column and count the occurrences\n",
    "count_p_names = mask_p.sum()\n",
    "\n",
    "# Plot the bar chart\n",
    "plt.bar(['Names with P'], [count_p_names])\n",
    "\n",
    "\n",
    "\n",
    "\n",
    "\n",
    "\n",
    "mask_s = cleaned_data['Name'].str.startswith('S')\n",
    "\n",
    "# Apply the mask to the 'Name' column and count the occurrences\n",
    "count_s_names = mask_s.sum()\n",
    "\n",
    "# Plot the bar chart\n",
    "plt.bar(['Names with S'], [count_s_names])\n",
    "\n",
    "\n",
    "\n",
    "\n",
    "\n",
    "\n",
    "mask_a = cleaned_data['Name'].str.startswith('A')\n",
    "\n",
    "# Apply the mask to the 'Name' column and count the occurrences\n",
    "count_s_names = mask_a.sum()\n",
    "\n",
    "# Plot the bar chart\n",
    "plt.bar(['Names with A'], [count_s_names])\n",
    "\n"
   ]
  },
  {
   "cell_type": "code",
   "execution_count": null,
   "id": "d9296ccc",
   "metadata": {},
   "outputs": [],
   "source": []
  }
 ],
 "metadata": {
  "kernelspec": {
   "display_name": "Python 3 (ipykernel)",
   "language": "python",
   "name": "python3"
  },
  "language_info": {
   "codemirror_mode": {
    "name": "ipython",
    "version": 3
   },
   "file_extension": ".py",
   "mimetype": "text/x-python",
   "name": "python",
   "nbconvert_exporter": "python",
   "pygments_lexer": "ipython3",
   "version": "3.9.5"
  }
 },
 "nbformat": 4,
 "nbformat_minor": 5
}
